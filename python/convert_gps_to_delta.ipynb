{
 "cells": [
  {
   "cell_type": "code",
   "execution_count": 1,
   "id": "11a3195a-838d-47ec-b73e-3f53b856f438",
   "metadata": {},
   "outputs": [],
   "source": [
    "import csv\n",
    "import pandas as pd\n",
    "import numpy as np\n",
    "from scipy.spatial.transform import Rotation as R"
   ]
  },
  {
   "cell_type": "code",
   "execution_count": 2,
   "id": "8ba132cf-b06c-48b2-a273-eca3bb817ed0",
   "metadata": {},
   "outputs": [],
   "source": [
    "# Read data from file\n",
    "gps_data = \"/mnt/hdd02/ba_copter_videos/Flight_05/DJIFlightRecord_2024-04-12_[18-34-58].csv\"\n",
    "\n",
    "# Write in file\n",
    "csv_file_path = '/mnt/hdd02/ba_copter_videos/Flight_05/DJIFlightRecord_without_header.csv'"
   ]
  },
  {
   "cell_type": "code",
   "execution_count": 3,
   "id": "62de5bc3-c656-4a73-ba7a-0aa7feb03f86",
   "metadata": {},
   "outputs": [],
   "source": [
    "def compute_quaternion_components(data):\n",
    "    # Extracting data\n",
    "    roll = np.deg2rad(data[\"OSD.roll\"])\n",
    "    pitch = np.deg2rad(data[\"OSD.pitch\"])\n",
    "    yaw = np.deg2rad(data[\"OSD.yaw\"])\n",
    "\n",
    "    # Initialize lists to store computed quaternion components\n",
    "    x_list = []\n",
    "    y_list = []\n",
    "    z_list = []\n",
    "    w_list = []\n",
    "\n",
    "    # Compute quaternion components\n",
    "    for r, p, y in zip(roll, pitch, yaw):\n",
    "        r_obj = R.from_euler('xyz', [r, p, y], degrees=False)\n",
    "        quaternion = r_obj.as_quat()\n",
    "        x_list.append(quaternion[0])\n",
    "        y_list.append(quaternion[1])\n",
    "        z_list.append(quaternion[2])\n",
    "        w_list.append(quaternion[3])\n",
    "        \n",
    "    return x_list, y_list, z_list, w_list"
   ]
  },
  {
   "cell_type": "code",
   "execution_count": 4,
   "id": "61501970-031d-409f-85e6-0ac5299dcf87",
   "metadata": {},
   "outputs": [],
   "source": [
    "def create_data_list(data):\n",
    "    # Extracting data\n",
    "    time = data[\"OSD.flyTime [s]\"]\n",
    "    pos_x = data[\"OSD.latitude\"]\n",
    "    pos_y = data[\"OSD.longitude\"]\n",
    "    pos_z = data[\"OSD.height [ft]\"]\n",
    "    quaternion_components = compute_quaternion_components(data)\n",
    "    quaternion_x = quaternion_components[0]\n",
    "    quaternion_y = quaternion_components[1]\n",
    "    quaternion_z = quaternion_components[2]\n",
    "    quaternion_w = quaternion_components[3]\n",
    "\n",
    "    # Initialize list to store computed data\n",
    "    data_list = []\n",
    "\n",
    "    # Combine data into a list of tuples\n",
    "    for t, x, y, z, qx, qy, qz, qw in zip(time, pos_x, pos_y, pos_z, quaternion_x, quaternion_y, quaternion_z, quaternion_w):\n",
    "        # Append computed data to list\n",
    "        data_list.append((t, x, y, z, qx, qy, qz, qw))\n",
    "    \n",
    "    return data_list"
   ]
  },
  {
   "cell_type": "code",
   "execution_count": 5,
   "id": "b31f3434-b319-43f6-ac99-5861676a888a",
   "metadata": {},
   "outputs": [
    {
     "name": "stdout",
     "output_type": "stream",
     "text": [
      "Die Daten wurden erfolgreich in die CSV-Datei geschrieben: /mnt/hdd02/ba_copter_videos/Flight_05/DJIFlightRecord_without_header.csv\n"
     ]
    }
   ],
   "source": [
    "# Load data using pandas\n",
    "data = pd.read_csv(gps_data)\n",
    "\n",
    "data_list = create_data_list(data)\n",
    "\n",
    "# Write data to CSV file\n",
    "with open(csv_file_path, 'w', newline='') as file:\n",
    "    writer = csv.writer(file)\n",
    "    writer.writerows(data_list)\n",
    "\n",
    "print(\"Die Daten wurden erfolgreich in die CSV-Datei geschrieben:\", csv_file_path)\n"
   ]
  },
  {
   "cell_type": "code",
   "execution_count": null,
   "id": "5530905d-8c76-43b5-ac8c-91ade16dfc6c",
   "metadata": {},
   "outputs": [],
   "source": []
  }
 ],
 "metadata": {
  "kernelspec": {
   "display_name": "Python 3 (ipykernel)",
   "language": "python",
   "name": "python3"
  },
  "language_info": {
   "codemirror_mode": {
    "name": "ipython",
    "version": 3
   },
   "file_extension": ".py",
   "mimetype": "text/x-python",
   "name": "python",
   "nbconvert_exporter": "python",
   "pygments_lexer": "ipython3",
   "version": "3.11.8"
  }
 },
 "nbformat": 4,
 "nbformat_minor": 5
}
