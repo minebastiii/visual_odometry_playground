{
 "cells": [
  {
   "cell_type": "code",
   "execution_count": 1,
   "id": "75fbec65-caeb-4604-8d01-a60b9b513f90",
   "metadata": {},
   "outputs": [],
   "source": [
    "import csv\n",
    "import pandas as pd"
   ]
  },
  {
   "cell_type": "code",
   "execution_count": 2,
   "id": "f4c7a531-e6f1-4450-8781-29e2f9840361",
   "metadata": {},
   "outputs": [],
   "source": [
    "# Read data from file\n",
    "flight_nr = \"06\"  # Flight number as string\n",
    "gps_data_template = \"/mnt/hdd02/ba_copter_videos/Flight_{}/{}.csv\"\n",
    "filename = gps_data_template.format(flight_nr, flight_nr)\n",
    "data = pd.read_csv(filename)"
   ]
  },
  {
   "cell_type": "code",
   "execution_count": 3,
   "id": "3a103897-7339-4d7e-ae9d-7ce4d03eb3e5",
   "metadata": {},
   "outputs": [],
   "source": [
    "# Extracting data\n",
    "old_times = data[\"time(millisecond)\"]\n",
    "\n",
    "# Convert old times from milliseconds to seconds\n",
    "new_times = [t * 1000 for t in old_times]\n",
    "\n",
    "# Update the \"time(milliseconds)\" column with new times\n",
    "data[\"time(millisecond)\"] = new_times"
   ]
  },
  {
   "cell_type": "code",
   "execution_count": 4,
   "id": "f21f4a96-01a9-4737-a28e-20baaf182754",
   "metadata": {},
   "outputs": [],
   "source": [
    "# Write updated data to file\n",
    "data.to_csv(filename, index=False)"
   ]
  }
 ],
 "metadata": {
  "kernelspec": {
   "display_name": "Python 3 (ipykernel)",
   "language": "python",
   "name": "python3"
  },
  "language_info": {
   "codemirror_mode": {
    "name": "ipython",
    "version": 3
   },
   "file_extension": ".py",
   "mimetype": "text/x-python",
   "name": "python",
   "nbconvert_exporter": "python",
   "pygments_lexer": "ipython3",
   "version": "3.12.3"
  }
 },
 "nbformat": 4,
 "nbformat_minor": 5
}
