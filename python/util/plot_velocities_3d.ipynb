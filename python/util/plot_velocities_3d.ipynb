{
 "cells": [
  {
   "cell_type": "code",
   "execution_count": 1,
   "id": "a5143fe8-7687-4f26-b2f7-5bf9c5a58960",
   "metadata": {},
   "outputs": [],
   "source": [
    "import pandas as pd\n",
    "import plotly.graph_objs as go\n",
    "import plotly.offline as pyo"
   ]
  },
  {
   "cell_type": "code",
   "execution_count": 2,
   "id": "263abcb3-a04c-4c41-bf6b-bc3e91700e95",
   "metadata": {},
   "outputs": [],
   "source": [
    "flight_nr = \"11\""
   ]
  },
  {
   "cell_type": "code",
   "execution_count": 3,
   "id": "7fb511d2-9539-444f-8cdc-c4308d342785",
   "metadata": {},
   "outputs": [],
   "source": [
    "# Path templates for GPS and VO data\n",
    "vo_data_template = \"/mnt/hdd02/ba_copter_videos/Flight_{}/rotated_vo_{}.traj\"\n",
    "gps_data_path_template = \"/mnt/hdd02/ba_copter_videos/Flight_{}/gps_{}_interpolated.traj\"\n",
    "\n",
    "# Set the file paths for VO and GPS data based on the flight number\n",
    "vo_data_path = vo_data_template.format(flight_nr, flight_nr)\n",
    "gps_data_path = gps_data_path_template.format(flight_nr, flight_nr)\n",
    "\n",
    "# Load the VO and GPS data from CSV files\n",
    "vo_data = pd.read_csv(vo_data_path, header=None)\n",
    "gps_data = pd.read_csv(gps_data_path, header=None)"
   ]
  },
  {
   "cell_type": "code",
   "execution_count": 4,
   "id": "4347358c-cabb-4eba-9359-a81bffb92790",
   "metadata": {},
   "outputs": [],
   "source": [
    "# Geschwindigkeiten berechnen\n",
    "def calculate_velocity(df):\n",
    "    velocities = []\n",
    "    for i in range(1, len(df)):\n",
    "        t1, x1, y1, z1, q1, q2, q3, q4 = df.iloc[i-1]\n",
    "        t2, x2, y2, z2, q5, q6, q7, q8 = df.iloc[i]\n",
    "        dt = t2 - t1\n",
    "        if dt == 0:\n",
    "            continue\n",
    "        vx = (x2 - x1) / dt\n",
    "        vy = (y2 - y1) / dt\n",
    "        vz = (z2 - z1) / dt\n",
    "        velocities.append((t2, x1, y1, z1, vx, vy, vz))\n",
    "    return velocities"
   ]
  },
  {
   "cell_type": "code",
   "execution_count": 5,
   "id": "ba80deb3-08f3-4a60-bb6b-2f3a37916d59",
   "metadata": {},
   "outputs": [
    {
     "data": {
      "text/plain": [
       "'temp-plot.html'"
      ]
     },
     "execution_count": 5,
     "metadata": {},
     "output_type": "execute_result"
    }
   ],
   "source": [
    "velocities = calculate_velocity(vo_data)\n",
    "\n",
    "# 3D-Plot erstellen\n",
    "fig = go.Figure()\n",
    "\n",
    "for i, (t, x, y, z, vx, vy, vz) in enumerate(velocities):\n",
    "    if i % 25 != 0:  \n",
    "        continue\n",
    "    fig.add_trace(go.Cone(\n",
    "        x=[x], y=[y], z=[z],\n",
    "        u=[vx], v=[vy], w=[vz],\n",
    "        sizemode=\"absolute\",  # Set size mode to absolute\n",
    "        sizeref=0.8,  # Adjust this value to make the cones narrower\n",
    "        anchor=\"tail\",\n",
    "        colorscale='Blues'\n",
    "    ))\n",
    "\n",
    "fig.update_layout(\n",
    "    title=f'3D Velocity Vectors',\n",
    "    showlegend=False\n",
    ")\n",
    "\n",
    "# Adjust layout\n",
    "fig.update_scenes(xaxis=dict(title='Latitude'),\n",
    "                  yaxis=dict(title='Longitude', autorange='reversed'),\n",
    "                  zaxis=dict(title='Altitude [m]'))\n",
    "\n",
    "# Interaktiven Plot anzeigen\n",
    "pyo.plot(fig)"
   ]
  },
  {
   "cell_type": "code",
   "execution_count": null,
   "id": "85805e23-bad7-45ed-abaf-5aa7f46e9c18",
   "metadata": {},
   "outputs": [],
   "source": []
  }
 ],
 "metadata": {
  "kernelspec": {
   "display_name": "Python 3 (ipykernel)",
   "language": "python",
   "name": "python3"
  },
  "language_info": {
   "codemirror_mode": {
    "name": "ipython",
    "version": 3
   },
   "file_extension": ".py",
   "mimetype": "text/x-python",
   "name": "python",
   "nbconvert_exporter": "python",
   "pygments_lexer": "ipython3",
   "version": "3.12.3"
  }
 },
 "nbformat": 4,
 "nbformat_minor": 5
}
