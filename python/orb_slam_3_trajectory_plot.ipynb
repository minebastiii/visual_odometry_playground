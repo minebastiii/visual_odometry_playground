{
 "cells": [
  {
   "cell_type": "code",
   "execution_count": 2,
   "id": "84ece6da-4128-4eba-b518-5fefb1f6c5b5",
   "metadata": {},
   "outputs": [
    {
     "data": {
      "text/plain": [
       "'/home/bastian/uni/visual_odometry_playground/orb_slam3/orb_slam3_ws/getrackter_pfad.html'"
      ]
     },
     "execution_count": 2,
     "metadata": {},
     "output_type": "execute_result"
    },
    {
     "name": "stdout",
     "output_type": "stream",
     "text": [
      "Opening in existing browser session.\n"
     ]
    }
   ],
   "source": [
    "import plotly.graph_objs as go\n",
    "from plotly.subplots import make_subplots\n",
    "import plotly.offline as py\n",
    "import numpy as np\n",
    "\n",
    "# Dateiname der Trajektoriedaten\n",
    "camera_data = '/home/bastian/uni/visual_odometry_playground/orb_slam3/orb_slam3_ws/CameraTrajectory.csv'\n",
    "kf_data = '/home/bastian/uni/visual_odometry_playground/orb_slam3/orb_slam3_ws/KeyFrameTrajectory.csv'\n",
    "\n",
    "# Listen für Delta-Werte\n",
    "cam_delta_twb_x = []\n",
    "cam_delta_twb_y = []\n",
    "cam_delta_twb_z = []\n",
    "kf_delta_twb_x = []\n",
    "kf_delta_twb_y = []\n",
    "kf_delta_twb_z = []\n",
    "\n",
    "# Trajektoriedaten einlesen und Delta-Werte in den Listen speichern\n",
    "with open(camera_data, 'r') as f:\n",
    "    for line in f:\n",
    "        teile = line.split()\n",
    "        cam_delta_twb_x.append(float(teile[1]))\n",
    "        cam_delta_twb_y.append(float(teile[2]))\n",
    "        cam_delta_twb_z.append(float(teile[3]))\n",
    "with open(kf_data, 'r') as f:\n",
    "    for line in f:\n",
    "        teile = line.split()\n",
    "        kf_delta_twb_x.append(float(teile[1]))\n",
    "        kf_delta_twb_y.append(float(teile[2]))\n",
    "        kf_delta_twb_z.append(float(teile[3]))\n",
    "\n",
    "# Rotationsmatrix für 45 Grad Drehung um die y-Achse\n",
    "theta = np.radians(180)\n",
    "rotation_matrix = np.array([[np.cos(theta), 0, np.sin(theta)],\n",
    "                            [0, 1, 0],\n",
    "                            [-np.sin(theta), 0, np.cos(theta)]])\n",
    "\n",
    "# Daten um 45 Grad drehen\n",
    "rot_cam_coords = np.dot(rotation_matrix, np.vstack([cam_delta_twb_x, cam_delta_twb_y, cam_delta_twb_z]))\n",
    "rot_kf_coords = np.dot(rotation_matrix, np.vstack([kf_delta_twb_x, kf_delta_twb_y, kf_delta_twb_z]))\n",
    "\n",
    "# Erstelle interaktiven 3D-Plot\n",
    "fig = make_subplots(rows=1, cols=1, specs=[[{'type': 'scatter3d'}]])\n",
    "\n",
    "# Plot hinzufügen\n",
    "fig.add_trace(go.Scatter3d(x=rot_cam_coords[0], y=rot_cam_coords[1], z=rot_cam_coords[2], mode='lines', name='Camera'))\n",
    "fig.add_trace(go.Scatter3d(x=rot_kf_coords[0], y=rot_kf_coords[1], z=rot_kf_coords[2], mode='markers', name='KeyFrames'))\n",
    "\n",
    "# Layout anpassen\n",
    "fig.update_layout(title='Getrackter Pfad',\n",
    "                  scene=dict(xaxis=dict(title='Z-Koordinate'),  # Ändere die Beschriftung der Achsen\n",
    "                             yaxis=dict(title='Y-Koordinate'),\n",
    "                             zaxis=dict(title='X-Koordinate')),  # Ändere die Beschriftung der Achsen\n",
    "                  margin=dict(l=0, r=0, t=30, b=0))\n",
    "\n",
    "# Plot anzeigen\n",
    "py.plot(fig, filename='/home/bastian/uni/visual_odometry_playground/orb_slam3/orb_slam3_ws/getrackter_pfad.html')\n"
   ]
  },
  {
   "cell_type": "code",
   "execution_count": null,
   "id": "0ab068e3-e3bb-400e-855c-263d86926471",
   "metadata": {},
   "outputs": [],
   "source": []
  }
 ],
 "metadata": {
  "kernelspec": {
   "display_name": "Python 3 (ipykernel)",
   "language": "python",
   "name": "python3"
  },
  "language_info": {
   "codemirror_mode": {
    "name": "ipython",
    "version": 3
   },
   "file_extension": ".py",
   "mimetype": "text/x-python",
   "name": "python",
   "nbconvert_exporter": "python",
   "pygments_lexer": "ipython3",
   "version": "3.11.8"
  }
 },
 "nbformat": 4,
 "nbformat_minor": 5
}
